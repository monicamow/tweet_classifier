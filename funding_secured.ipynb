{
 "cells": [
  {
   "cell_type": "markdown",
   "metadata": {},
   "source": [
    "# Funding secured.\n",
    "\n",
    "I follow both Elon Musk and Bored Elon Musk on Twitter. Sometimes when I scroll through my timeline I see a tweet from Elon Musk and think, \"that's crazy talk\". Other times I read a tweet from Bored Elon Musk and think, \"this is so crazy it might work\".\n",
    "\n",
    "<img src=\"elon_tweet.jpg\" width=\"500\">\n",
    "\n",
    "I use the tweepy library to grab tweets for Elon Musk (https://twitter.com/elonmusk) and Bored Elon Musk (https://twitter.com/BoredElonMusk) via the Twitter API. I will then use some classification algorithms to classify the tweets as real or fake."
   ]
  },
  {
   "cell_type": "markdown",
   "metadata": {},
   "source": [
    "The first step is to create an app on the Twitter Developer platform in order to generate consumer and access keys. These will allow you to access the Twitter API through tweepy. These keys are specific to your Twitter Developer and/or user account, and so they should be kept private. I generally like to put them in a config.py file and import them. If you put your code on github, you can create a config_example.py file which will show other developers how to set up their config.py file. Also, make sure to add config.py to your .gitignore file."
   ]
  },
  {
   "cell_type": "code",
   "execution_count": 1,
   "metadata": {},
   "outputs": [],
   "source": [
    "from config import consumer_key, consumer_secret, access_token, access_token_secret\n",
    "import tweepy\n",
    "\n",
    "%matplotlib inline\n",
    "import matplotlib.pyplot as plt\n",
    "import datetime\n",
    "import numpy as np\n",
    "import pandas as pd\n",
    "import seaborn as sns; sns.set()"
   ]
  },
  {
   "cell_type": "code",
   "execution_count": 2,
   "metadata": {},
   "outputs": [],
   "source": [
    "# Creating the authentication object\n",
    "auth = tweepy.OAuthHandler(consumer_key, consumer_secret)\n",
    "# Setting your access token and secret\n",
    "auth.set_access_token(access_token, access_token_secret)\n",
    "# Creating the API object while passing in auth information\n",
    "api = tweepy.API(auth) "
   ]
  },
  {
   "cell_type": "markdown",
   "metadata": {},
   "source": [
    "## Function to grab a user's tweets\n",
    "\n",
    "Don't you love when you can write a function to keep your code DRY? I know I do."
   ]
  },
  {
   "cell_type": "code",
   "execution_count": 3,
   "metadata": {},
   "outputs": [],
   "source": [
    "def get_tweets(listOfTweets, user, numOfTweets):\n",
    "    # Iterate through all tweets of specific user\n",
    "    for tweet in tweepy.Cursor(api.user_timeline, id=user).items(numOfTweets):\n",
    "        # Add tweets in this format\n",
    "        dict_ = {'Screen Name': tweet.user.screen_name,\n",
    "                'Tweet Created At': pd.to_datetime(tweet.created_at),\n",
    "                'Tweet Text': tweet.text,\n",
    "                }\n",
    "        listOfTweets.append(dict_)   "
   ]
  },
  {
   "cell_type": "markdown",
   "metadata": {},
   "source": [
    "## Grab tweets from both accounts"
   ]
  },
  {
   "cell_type": "code",
   "execution_count": 10,
   "metadata": {},
   "outputs": [],
   "source": [
    "data = []\n",
    "\n",
    "get_tweets(data, 'BoredElonMusk', 1000)\n",
    "get_tweets(data, 'elonmusk', 1000)\n",
    "data_df = pd.DataFrame(data)"
   ]
  },
  {
   "cell_type": "code",
   "execution_count": 11,
   "metadata": {},
   "outputs": [
    {
     "data": {
      "text/html": [
       "<div>\n",
       "<style scoped>\n",
       "    .dataframe tbody tr th:only-of-type {\n",
       "        vertical-align: middle;\n",
       "    }\n",
       "\n",
       "    .dataframe tbody tr th {\n",
       "        vertical-align: top;\n",
       "    }\n",
       "\n",
       "    .dataframe thead th {\n",
       "        text-align: right;\n",
       "    }\n",
       "</style>\n",
       "<table border=\"1\" class=\"dataframe\">\n",
       "  <thead>\n",
       "    <tr style=\"text-align: right;\">\n",
       "      <th></th>\n",
       "      <th>Screen Name</th>\n",
       "      <th>Tweet Created At</th>\n",
       "      <th>Tweet Text</th>\n",
       "    </tr>\n",
       "  </thead>\n",
       "  <tbody>\n",
       "    <tr>\n",
       "      <th>0</th>\n",
       "      <td>BoredElonMusk</td>\n",
       "      <td>2019-06-27 01:11:51</td>\n",
       "      <td>RT @BoredElonMusk: Podiums with built-in stun ...</td>\n",
       "    </tr>\n",
       "    <tr>\n",
       "      <th>1</th>\n",
       "      <td>BoredElonMusk</td>\n",
       "      <td>2019-06-25 04:21:26</td>\n",
       "      <td>Coffee shop that gives you extra strong drinks...</td>\n",
       "    </tr>\n",
       "    <tr>\n",
       "      <th>2</th>\n",
       "      <td>BoredElonMusk</td>\n",
       "      <td>2019-06-19 16:01:04</td>\n",
       "      <td>Ticketmaster, but not evil.</td>\n",
       "    </tr>\n",
       "    <tr>\n",
       "      <th>3</th>\n",
       "      <td>BoredElonMusk</td>\n",
       "      <td>2019-06-08 21:08:51</td>\n",
       "      <td>Blanket that absorbs and transfers heat from o...</td>\n",
       "    </tr>\n",
       "    <tr>\n",
       "      <th>4</th>\n",
       "      <td>BoredElonMusk</td>\n",
       "      <td>2019-06-06 14:52:12</td>\n",
       "      <td>Phone feature that rings your alarm just befor...</td>\n",
       "    </tr>\n",
       "  </tbody>\n",
       "</table>\n",
       "</div>"
      ],
      "text/plain": [
       "     Screen Name    Tweet Created At  \\\n",
       "0  BoredElonMusk 2019-06-27 01:11:51   \n",
       "1  BoredElonMusk 2019-06-25 04:21:26   \n",
       "2  BoredElonMusk 2019-06-19 16:01:04   \n",
       "3  BoredElonMusk 2019-06-08 21:08:51   \n",
       "4  BoredElonMusk 2019-06-06 14:52:12   \n",
       "\n",
       "                                          Tweet Text  \n",
       "0  RT @BoredElonMusk: Podiums with built-in stun ...  \n",
       "1  Coffee shop that gives you extra strong drinks...  \n",
       "2                        Ticketmaster, but not evil.  \n",
       "3  Blanket that absorbs and transfers heat from o...  \n",
       "4  Phone feature that rings your alarm just befor...  "
      ]
     },
     "execution_count": 11,
     "metadata": {},
     "output_type": "execute_result"
    }
   ],
   "source": [
    "data_df.head()"
   ]
  },
  {
   "cell_type": "code",
   "execution_count": 12,
   "metadata": {},
   "outputs": [
    {
     "data": {
      "text/html": [
       "<div>\n",
       "<style scoped>\n",
       "    .dataframe tbody tr th:only-of-type {\n",
       "        vertical-align: middle;\n",
       "    }\n",
       "\n",
       "    .dataframe tbody tr th {\n",
       "        vertical-align: top;\n",
       "    }\n",
       "\n",
       "    .dataframe thead th {\n",
       "        text-align: right;\n",
       "    }\n",
       "</style>\n",
       "<table border=\"1\" class=\"dataframe\">\n",
       "  <thead>\n",
       "    <tr style=\"text-align: right;\">\n",
       "      <th></th>\n",
       "      <th>Screen Name</th>\n",
       "      <th>Tweet Created At</th>\n",
       "      <th>Tweet Text</th>\n",
       "    </tr>\n",
       "  </thead>\n",
       "  <tbody>\n",
       "    <tr>\n",
       "      <th>1995</th>\n",
       "      <td>elonmusk</td>\n",
       "      <td>2019-04-06 04:52:10</td>\n",
       "      <td>Starhopper just lifted off &amp;amp; hit tether li...</td>\n",
       "    </tr>\n",
       "    <tr>\n",
       "      <th>1996</th>\n",
       "      <td>elonmusk</td>\n",
       "      <td>2019-04-05 17:16:31</td>\n",
       "      <td>Max thrust of 2550 tons will be almost 10% hig...</td>\n",
       "    </tr>\n",
       "    <tr>\n",
       "      <th>1997</th>\n",
       "      <td>elonmusk</td>\n",
       "      <td>2019-04-05 17:11:37</td>\n",
       "      <td>Static fire data looks good so far. This is fi...</td>\n",
       "    </tr>\n",
       "    <tr>\n",
       "      <th>1998</th>\n",
       "      <td>elonmusk</td>\n",
       "      <td>2019-04-05 16:48:11</td>\n",
       "      <td>@abledoc @fentrocity @Real_John_D @MitchellHag...</td>\n",
       "    </tr>\n",
       "    <tr>\n",
       "      <th>1999</th>\n",
       "      <td>elonmusk</td>\n",
       "      <td>2019-04-05 14:12:02</td>\n",
       "      <td>“…drivers in this dataset use Autopilot for 34...</td>\n",
       "    </tr>\n",
       "  </tbody>\n",
       "</table>\n",
       "</div>"
      ],
      "text/plain": [
       "     Screen Name    Tweet Created At  \\\n",
       "1995    elonmusk 2019-04-06 04:52:10   \n",
       "1996    elonmusk 2019-04-05 17:16:31   \n",
       "1997    elonmusk 2019-04-05 17:11:37   \n",
       "1998    elonmusk 2019-04-05 16:48:11   \n",
       "1999    elonmusk 2019-04-05 14:12:02   \n",
       "\n",
       "                                             Tweet Text  \n",
       "1995  Starhopper just lifted off &amp; hit tether li...  \n",
       "1996  Max thrust of 2550 tons will be almost 10% hig...  \n",
       "1997  Static fire data looks good so far. This is fi...  \n",
       "1998  @abledoc @fentrocity @Real_John_D @MitchellHag...  \n",
       "1999  “…drivers in this dataset use Autopilot for 34...  "
      ]
     },
     "execution_count": 12,
     "metadata": {},
     "output_type": "execute_result"
    }
   ],
   "source": [
    "data_df.tail()"
   ]
  },
  {
   "cell_type": "code",
   "execution_count": null,
   "metadata": {},
   "outputs": [],
   "source": []
  }
 ],
 "metadata": {
  "kernelspec": {
   "display_name": "Python 3",
   "language": "python",
   "name": "python3"
  },
  "language_info": {
   "codemirror_mode": {
    "name": "ipython",
    "version": 3
   },
   "file_extension": ".py",
   "mimetype": "text/x-python",
   "name": "python",
   "nbconvert_exporter": "python",
   "pygments_lexer": "ipython3",
   "version": "3.6.5"
  }
 },
 "nbformat": 4,
 "nbformat_minor": 2
}
