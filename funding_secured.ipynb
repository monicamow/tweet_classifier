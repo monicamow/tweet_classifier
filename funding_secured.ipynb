{
 "cells": [
  {
   "cell_type": "markdown",
   "metadata": {},
   "source": [
    "# Funding secured.\n",
    "\n",
    "I follow both Elon Musk and Bored Elon Musk on Twitter. Sometimes when I scroll through my timeline I see a tweet from Elon Musk and think, \"that's crazy talk\". Other times I read a tweet from Bored Elon Musk and think, \"this is so crazy it might work\".\n",
    "\n",
    "<img src=\"elon_tweet.jpg\" width=\"500\">\n",
    "\n",
    "I use the tweepy library to grab tweets for Elon Musk (https://twitter.com/elonmusk) and Bored Elon Musk (https://twitter.com/BoredElonMusk) via the Twitter API. I will then use some classification algorithms to classify the tweets as real or fake."
   ]
  },
  {
   "cell_type": "markdown",
   "metadata": {},
   "source": [
    "The first step is to create an app on the Twitter Developer platform in order to generate consumer and access keys. These will allow you to access the Twitter API through tweepy. These keys are specific to your Twitter Developer and/or user account, and so they should be kept private. I generally like to put them in a config.py file and import them. If you put your code on github, you can create a config_example.py file which will show other developers how to set up their config.py file. Also, make sure to add config.py to your .gitignore file."
   ]
  },
  {
   "cell_type": "code",
   "execution_count": 1,
   "metadata": {},
   "outputs": [],
   "source": [
    "from config import consumer_key, consumer_secret, access_token, access_token_secret\n",
    "import tweepy\n",
    "\n",
    "%matplotlib inline\n",
    "import matplotlib.pyplot as plt\n",
    "import datetime\n",
    "import numpy as np\n",
    "import pandas as pd\n",
    "import seaborn as sns; sns.set()"
   ]
  },
  {
   "cell_type": "code",
   "execution_count": 2,
   "metadata": {},
   "outputs": [],
   "source": [
    "# Creating the authentication object\n",
    "auth = tweepy.OAuthHandler(consumer_key, consumer_secret)\n",
    "# Setting your access token and secret\n",
    "auth.set_access_token(access_token, access_token_secret)\n",
    "# Creating the API object while passing in auth information\n",
    "api = tweepy.API(auth) "
   ]
  },
  {
   "cell_type": "markdown",
   "metadata": {},
   "source": [
    "## Function to grab a user's tweets\n",
    "\n",
    "Don't you love when you can write a function to keep your code DRY? I know I do."
   ]
  },
  {
   "cell_type": "code",
   "execution_count": 3,
   "metadata": {},
   "outputs": [],
   "source": [
    "def get_tweets(listOfTweets, user, numOfTweets):\n",
    "    # Iterate through all tweets of specific user\n",
    "    for tweet in tweepy.Cursor(api.user_timeline, id=user).items(numOfTweets):\n",
    "        # Add tweets in this format\n",
    "        dict_ = {'Screen Name': tweet.user.screen_name,\n",
    "                'Tweet Created At': pd.to_datetime(tweet.created_at),\n",
    "                'Tweet Text': tweet.text,\n",
    "                }\n",
    "        listOfTweets.append(dict_)   "
   ]
  },
  {
   "cell_type": "markdown",
   "metadata": {},
   "source": [
    "## Grab tweets from both accounts"
   ]
  },
  {
   "cell_type": "code",
   "execution_count": 7,
   "metadata": {},
   "outputs": [],
   "source": [
    "data = []\n",
    "\n",
    "get_tweets(data, 'BoredElonMusk', 1000)\n",
    "get_tweets(data, 'elonmusk', 1000)\n",
    "data_df = pd.DataFrame(data)"
   ]
  },
  {
   "cell_type": "code",
   "execution_count": null,
   "metadata": {},
   "outputs": [],
   "source": [
    "data_df.head()"
   ]
  },
  {
   "cell_type": "code",
   "execution_count": null,
   "metadata": {},
   "outputs": [],
   "source": [
    "data_df.tail()"
   ]
  },
  {
   "cell_type": "markdown",
   "metadata": {},
   "source": [
    "## Cleaning tweet text\n",
    "\n",
    "Need to remove \n",
    "1. mentions (\"@\") and retweets (\"RT\")\n",
    "2. HTML (\"&amp;\")\n",
    "3. links\n",
    "4. foreign languages (Russian???)\n",
    "5. hashtags and numbers"
   ]
  },
  {
   "cell_type": "code",
   "execution_count": 8,
   "metadata": {},
   "outputs": [
    {
     "data": {
      "text/html": [
       "<div>\n",
       "<style scoped>\n",
       "    .dataframe tbody tr th:only-of-type {\n",
       "        vertical-align: middle;\n",
       "    }\n",
       "\n",
       "    .dataframe tbody tr th {\n",
       "        vertical-align: top;\n",
       "    }\n",
       "\n",
       "    .dataframe thead th {\n",
       "        text-align: right;\n",
       "    }\n",
       "</style>\n",
       "<table border=\"1\" class=\"dataframe\">\n",
       "  <thead>\n",
       "    <tr style=\"text-align: right;\">\n",
       "      <th></th>\n",
       "      <th>Screen Name</th>\n",
       "      <th>Tweet Created At</th>\n",
       "      <th>Tweet Text</th>\n",
       "      <th>tweet</th>\n",
       "    </tr>\n",
       "  </thead>\n",
       "  <tbody>\n",
       "    <tr>\n",
       "      <th>0</th>\n",
       "      <td>BoredElonMusk</td>\n",
       "      <td>2019-06-27 01:11:51</td>\n",
       "      <td>RT @BoredElonMusk: Podiums with built-in stun ...</td>\n",
       "      <td>Podiums with builtin stun guns that go off aft...</td>\n",
       "    </tr>\n",
       "    <tr>\n",
       "      <th>1</th>\n",
       "      <td>BoredElonMusk</td>\n",
       "      <td>2019-06-25 04:21:26</td>\n",
       "      <td>Coffee shop that gives you extra strong drinks...</td>\n",
       "      <td>Coffee shop that gives you extra strong drinks...</td>\n",
       "    </tr>\n",
       "    <tr>\n",
       "      <th>2</th>\n",
       "      <td>BoredElonMusk</td>\n",
       "      <td>2019-06-19 16:01:04</td>\n",
       "      <td>Ticketmaster, but not evil.</td>\n",
       "      <td>Ticketmaster but not evil</td>\n",
       "    </tr>\n",
       "    <tr>\n",
       "      <th>3</th>\n",
       "      <td>BoredElonMusk</td>\n",
       "      <td>2019-06-08 21:08:51</td>\n",
       "      <td>Blanket that absorbs and transfers heat from o...</td>\n",
       "      <td>Blanket that absorbs and transfers heat from o...</td>\n",
       "    </tr>\n",
       "    <tr>\n",
       "      <th>4</th>\n",
       "      <td>BoredElonMusk</td>\n",
       "      <td>2019-06-06 14:52:12</td>\n",
       "      <td>Phone feature that rings your alarm just befor...</td>\n",
       "      <td>Phone feature that rings your alarm just befor...</td>\n",
       "    </tr>\n",
       "  </tbody>\n",
       "</table>\n",
       "</div>"
      ],
      "text/plain": [
       "     Screen Name    Tweet Created At  \\\n",
       "0  BoredElonMusk 2019-06-27 01:11:51   \n",
       "1  BoredElonMusk 2019-06-25 04:21:26   \n",
       "2  BoredElonMusk 2019-06-19 16:01:04   \n",
       "3  BoredElonMusk 2019-06-08 21:08:51   \n",
       "4  BoredElonMusk 2019-06-06 14:52:12   \n",
       "\n",
       "                                          Tweet Text  \\\n",
       "0  RT @BoredElonMusk: Podiums with built-in stun ...   \n",
       "1  Coffee shop that gives you extra strong drinks...   \n",
       "2                        Ticketmaster, but not evil.   \n",
       "3  Blanket that absorbs and transfers heat from o...   \n",
       "4  Phone feature that rings your alarm just befor...   \n",
       "\n",
       "                                               tweet  \n",
       "0  Podiums with builtin stun guns that go off aft...  \n",
       "1  Coffee shop that gives you extra strong drinks...  \n",
       "2                          Ticketmaster but not evil  \n",
       "3  Blanket that absorbs and transfers heat from o...  \n",
       "4  Phone feature that rings your alarm just befor...  "
      ]
     },
     "execution_count": 8,
     "metadata": {},
     "output_type": "execute_result"
    }
   ],
   "source": [
    "# clean tweets \n",
    "# https://towardsdatascience.com/another-twitter-sentiment-analysis-bb5b01ebad90\n",
    "# re.sub('RT @[\\w_]+: ', '', tweet)\n",
    "pat1 ='RT @[\\w_]+: '\n",
    "pat2 = r'@[A-Za-z0-9]+'\n",
    "pat3 = r'https?://[A-Za-z0-9./]+'\n",
    "pat4 = r'[^a-zA-Z ]+'\n",
    "combined_pat = r'|'.join((pat1, pat2, pat3, pat4))\n",
    "\n",
    "data_df['tweet'] = data_df['Tweet Text']\n",
    "data_df['tweet'] = data_df.tweet.str.replace(combined_pat, '')\n",
    "data_df.head()"
   ]
  },
  {
   "cell_type": "markdown",
   "metadata": {},
   "source": [
    "## Create text features\n",
    "\n",
    "Uses count vectorizer to do word count in each tweet."
   ]
  },
  {
   "cell_type": "code",
   "execution_count": null,
   "metadata": {},
   "outputs": [],
   "source": [
    "# from sklearn.feature_extraction.text import CountVectorizer\n",
    "\n",
    "# vec = CountVectorizer()\n",
    "# X = vec.fit_transform(data_df['tweet'])\n",
    "\n",
    "# # inspect in pandas\n",
    "# words = list(pd.DataFrame(X.toarray(), columns=vec.get_feature_names()))\n",
    "\n",
    "# with open('words.txt', 'w', encoding=\"utf-8\") as filehandle:  \n",
    "#     for word in words:\n",
    "#         filehandle.write('%s\\n' % word)"
   ]
  },
  {
   "cell_type": "code",
   "execution_count": null,
   "metadata": {},
   "outputs": [],
   "source": [
    "# # weight word counts by frequency using \n",
    "# # term frequency-inverse document frequency (TF–IDF)\n",
    "# from sklearn.feature_extraction.text import TfidfVectorizer\n",
    "# vec = TfidfVectorizer()\n",
    "# X = vec.fit_transform(data_df['tweet'])\n",
    "# y = data_df['Screen Name']\n",
    "# pd.DataFrame(X.toarray(), columns=vec.get_feature_names())\n",
    "\n",
    "# # tf-idf uses idf(t) = log[(1+n)/(1+df(t))] + 1\n",
    "# # vectors are then normalized by Euclidean norm"
   ]
  },
  {
   "cell_type": "code",
   "execution_count": 9,
   "metadata": {},
   "outputs": [],
   "source": [
    "# supervised learning example - classification - Gaussian Naive Bayes\n",
    "from sklearn.model_selection import train_test_split\n",
    "\n",
    "X = data_df['tweet']\n",
    "y = data_df['Screen Name']\n",
    "Xtrain, Xtest, ytrain, ytest = train_test_split(X, y, random_state=1991)"
   ]
  },
  {
   "cell_type": "code",
   "execution_count": 10,
   "metadata": {},
   "outputs": [],
   "source": [
    "# convert content of string into vector of numbers using TF-IDF\n",
    "# use pipeline to attach vectorized text data to multinomial bayes classifier\n",
    "from sklearn.feature_extraction.text import TfidfVectorizer\n",
    "from sklearn.naive_bayes import MultinomialNB\n",
    "from sklearn.pipeline import make_pipeline\n",
    "\n",
    "model = make_pipeline(TfidfVectorizer(), MultinomialNB())"
   ]
  },
  {
   "cell_type": "code",
   "execution_count": 43,
   "metadata": {},
   "outputs": [],
   "source": [
    "# apply model to training data and predict labels for test data\n",
    "model.fit(Xtrain, ytrain)\n",
    "ypred = model.predict(Xtest)"
   ]
  },
  {
   "cell_type": "code",
   "execution_count": 93,
   "metadata": {},
   "outputs": [
    {
     "data": {
      "image/png": "[encoded data removed]",
      "text/plain": [
       "<Figure size 432x288 with 1 Axes>"
      ]
     },
     "metadata": {},
     "output_type": "display_data"
    }
   ],
   "source": [
    "from sklearn.metrics import confusion_matrix\n",
    "from sklearn.utils.multiclass import unique_labels\n",
    "\n",
    "class_names = np.array(['BoredElonMusk', 'elonmusk'])\n",
    "\n",
    "mat = confusion_matrix(ytest, ypred)\n",
    "sns.heatmap(mat, square=True, annot=True, cbar=False, cmap='Blues', fmt='g')\n",
    "plt.xlabel('predicted value')\n",
    "plt.ylabel('true value');"
   ]
  },
  {
   "cell_type": "code",
   "execution_count": 94,
   "metadata": {},
   "outputs": [
    {
     "name": "stdout",
     "output_type": "stream",
     "text": [
      "Confusion matrix, without normalization\n",
      "[[233  25]\n",
      " [ 37 205]]\n",
      "Normalized confusion matrix\n",
      "[[0.9  0.1 ]\n",
      " [0.15 0.85]]\n"
     ]
    },
    {
     "data": {
      "image/png": "[encoded data removed]",
      "text/plain": [
       "<Figure size 432x288 with 2 Axes>"
      ]
     },
     "metadata": {},
     "output_type": "display_data"
    },
    {
     "data": {
      "image/png": "[encoded data removed]",
      "text/plain": [
       "<Figure size 432x288 with 2 Axes>"
      ]
     },
     "metadata": {},
     "output_type": "display_data"
    }
   ],
   "source": [
    "from sklearn.utils.multiclass import unique_labels\n",
    "\n",
    "def plot_confusion_matrix(ytest, ypred, classes,\n",
    "                          normalize=False,\n",
    "                          title=None,\n",
    "                          cmap=plt.cm.Blues):\n",
    "    \"\"\"\n",
    "    This function prints and plots the confusion matrix.\n",
    "    Normalization can be applied by setting `normalize=True`.\n",
    "    \"\"\"\n",
    "    if not title:\n",
    "        if normalize:\n",
    "            title = 'Normalized confusion matrix'\n",
    "        else:\n",
    "            title = 'Confusion matrix, without normalization'\n",
    "\n",
    "    # Compute confusion matrix\n",
    "    cm = confusion_matrix(ytest, ypred)\n",
    "\n",
    "    if normalize:\n",
    "        cm = cm.astype('float') / cm.sum(axis=1)[:, np.newaxis]\n",
    "        print(\"Normalized confusion matrix\")\n",
    "    else:\n",
    "        print('Confusion matrix, without normalization')\n",
    "\n",
    "    print(cm)\n",
    "\n",
    "    fig, ax = plt.subplots()\n",
    "    im = ax.imshow(cm, interpolation='nearest', cmap=cmap)\n",
    "    ax.figure.colorbar(im, ax=ax)\n",
    "    # We want to show all ticks...\n",
    "    ax.set(xticks=np.arange(cm.shape[1]),\n",
    "           yticks=np.arange(cm.shape[0]),\n",
    "           # ... and label them with the respective list entries\n",
    "           xticklabels=classes, yticklabels=classes,\n",
    "           title=title,\n",
    "           ylabel='True label',\n",
    "           xlabel='Predicted label')\n",
    "\n",
    "    # Rotate the tick labels and set their alignment.\n",
    "    plt.setp(ax.get_xticklabels(), rotation=45, ha=\"right\",\n",
    "             rotation_mode=\"anchor\")\n",
    "\n",
    "    # Loop over data dimensions and create text annotations.\n",
    "    fmt = '.2f' if normalize else 'd'\n",
    "    thresh = cm.max() / 2.\n",
    "    for i in range(cm.shape[0]):\n",
    "        for j in range(cm.shape[1]):\n",
    "            ax.text(j, i, format(cm[i, j], fmt),\n",
    "                    ha=\"center\", va=\"center\",\n",
    "                    color=\"white\" if cm[i, j] > thresh else \"black\")\n",
    "    fig.tight_layout()\n",
    "    return ax\n",
    "\n",
    "\n",
    "np.set_printoptions(precision=2)\n",
    "\n",
    "# Plot non-normalized confusion matrix\n",
    "plot_confusion_matrix(ytest, ypred, classes=class_names,\n",
    "                      title='Confusion matrix, without normalization')\n",
    "plt.grid(False)\n",
    "\n",
    "# Plot normalized confusion matrix\n",
    "plot_confusion_matrix(ytest, ypred, classes=class_names, normalize=True,\n",
    "                      title='Normalized confusion matrix')\n",
    "plt.grid(False)\n",
    "\n",
    "plt.show()"
   ]
  },
  {
   "cell_type": "code",
   "execution_count": 54,
   "metadata": {},
   "outputs": [
    {
     "data": {
      "text/plain": [
       "0.876"
      ]
     },
     "execution_count": 54,
     "metadata": {},
     "output_type": "execute_result"
    }
   ],
   "source": [
    "# see fraction of predicted labels that match their true value\n",
    "from sklearn.metrics import accuracy_score\n",
    "accuracy_score(ytest, ypred)"
   ]
  },
  {
   "cell_type": "code",
   "execution_count": 96,
   "metadata": {},
   "outputs": [],
   "source": [
    "# check order of labels\n",
    "# https://stackoverflow.com/questions/50325786/sci-kit-learn-how-to-print-labels-for-confusion-matrix\n",
    "labels = model.classes_"
   ]
  },
  {
   "cell_type": "code",
   "execution_count": 97,
   "metadata": {},
   "outputs": [
    {
     "data": {
      "text/plain": [
       "array(['BoredElonMusk', 'elonmusk'], dtype='<U13')"
      ]
     },
     "execution_count": 97,
     "metadata": {},
     "output_type": "execute_result"
    }
   ],
   "source": [
    "labels"
   ]
  },
  {
   "cell_type": "code",
   "execution_count": null,
   "metadata": {},
   "outputs": [],
   "source": []
  }
 ],
 "metadata": {
  "kernelspec": {
   "display_name": "Python 3",
   "language": "python",
   "name": "python3"
  },
  "language_info": {
   "codemirror_mode": {
    "name": "ipython",
    "version": 3
   },
   "file_extension": ".py",
   "mimetype": "text/x-python",
   "name": "python",
   "nbconvert_exporter": "python",
   "pygments_lexer": "ipython3",
   "version": "3.6.5"
  }
 },
 "nbformat": 4,
 "nbformat_minor": 2
}
