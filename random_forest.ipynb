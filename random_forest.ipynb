{
 "cells": [
  {
   "cell_type": "code",
   "execution_count": 1,
   "metadata": {},
   "outputs": [],
   "source": [
    "# https://medium.com/@tenzin_ngodup/simple-text-classification-using-random-forest-fe230be1e857\n",
    "\n",
    "%matplotlib inline\n",
    "import matplotlib.pyplot as plt\n",
    "import datetime\n",
    "import numpy as np\n",
    "import pandas as pd\n",
    "import seaborn as sns; sns.set()"
   ]
  },
  {
   "cell_type": "code",
   "execution_count": 4,
   "metadata": {},
   "outputs": [],
   "source": [
    "data_df = pd.read_csv('data_exported.csv')"
   ]
  },
  {
   "cell_type": "code",
   "execution_count": 18,
   "metadata": {},
   "outputs": [
    {
     "data": {
      "text/html": [
       "<div>\n",
       "<style scoped>\n",
       "    .dataframe tbody tr th:only-of-type {\n",
       "        vertical-align: middle;\n",
       "    }\n",
       "\n",
       "    .dataframe tbody tr th {\n",
       "        vertical-align: top;\n",
       "    }\n",
       "\n",
       "    .dataframe thead th {\n",
       "        text-align: right;\n",
       "    }\n",
       "</style>\n",
       "<table border=\"1\" class=\"dataframe\">\n",
       "  <thead>\n",
       "    <tr style=\"text-align: right;\">\n",
       "      <th></th>\n",
       "      <th>Screen Name</th>\n",
       "      <th>Tweet Created At</th>\n",
       "      <th>Tweet Text</th>\n",
       "      <th>tweet_cleaned</th>\n",
       "      <th>who_is_it</th>\n",
       "    </tr>\n",
       "  </thead>\n",
       "  <tbody>\n",
       "    <tr>\n",
       "      <th>1995</th>\n",
       "      <td>elonmusk</td>\n",
       "      <td>2019-04-14 23:10:17</td>\n",
       "      <td>@JaneidyEve 6.5</td>\n",
       "      <td></td>\n",
       "      <td>1</td>\n",
       "    </tr>\n",
       "    <tr>\n",
       "      <th>1996</th>\n",
       "      <td>elonmusk</td>\n",
       "      <td>2019-04-14 23:06:20</td>\n",
       "      <td>@Johankyu7 Yes</td>\n",
       "      <td>Yes</td>\n",
       "      <td>1</td>\n",
       "    </tr>\n",
       "    <tr>\n",
       "      <th>1997</th>\n",
       "      <td>elonmusk</td>\n",
       "      <td>2019-04-14 23:02:20</td>\n",
       "      <td>Winter is coming</td>\n",
       "      <td>Winter is coming</td>\n",
       "      <td>1</td>\n",
       "    </tr>\n",
       "    <tr>\n",
       "      <th>1998</th>\n",
       "      <td>elonmusk</td>\n",
       "      <td>2019-04-14 23:01:59</td>\n",
       "      <td>Thinking about adding giant stainless steel dr...</td>\n",
       "      <td>Thinking about adding giant stainless steel dr...</td>\n",
       "      <td>1</td>\n",
       "    </tr>\n",
       "    <tr>\n",
       "      <th>1999</th>\n",
       "      <td>elonmusk</td>\n",
       "      <td>2019-04-14 22:54:51</td>\n",
       "      <td>@EforElectric @WSJ That tweet did take immense...</td>\n",
       "      <td>That tweet did take immense effort  Fair poi...</td>\n",
       "      <td>1</td>\n",
       "    </tr>\n",
       "  </tbody>\n",
       "</table>\n",
       "</div>"
      ],
      "text/plain": [
       "     Screen Name     Tweet Created At  \\\n",
       "1995    elonmusk  2019-04-14 23:10:17   \n",
       "1996    elonmusk  2019-04-14 23:06:20   \n",
       "1997    elonmusk  2019-04-14 23:02:20   \n",
       "1998    elonmusk  2019-04-14 23:01:59   \n",
       "1999    elonmusk  2019-04-14 22:54:51   \n",
       "\n",
       "                                             Tweet Text  \\\n",
       "1995                                    @JaneidyEve 6.5   \n",
       "1996                                     @Johankyu7 Yes   \n",
       "1997                                   Winter is coming   \n",
       "1998  Thinking about adding giant stainless steel dr...   \n",
       "1999  @EforElectric @WSJ That tweet did take immense...   \n",
       "\n",
       "                                          tweet_cleaned  who_is_it  \n",
       "1995                                                             1  \n",
       "1996                                                Yes          1  \n",
       "1997                                   Winter is coming          1  \n",
       "1998  Thinking about adding giant stainless steel dr...          1  \n",
       "1999    That tweet did take immense effort  Fair poi...          1  "
      ]
     },
     "execution_count": 18,
     "metadata": {},
     "output_type": "execute_result"
    }
   ],
   "source": [
    "data_df.loc[data_df['Screen Name'] == 'BoredElonMusk', 'who_is_it'] = 0\n",
    "data_df.loc[data_df['Screen Name'] == 'elonmusk', 'who_is_it'] = 1\n",
    "\n",
    "data_df['who_is_it'] = data_df['who_is_it'].astype(np.int64)\n",
    "\n",
    "data_df.tail()"
   ]
  },
  {
   "cell_type": "code",
   "execution_count": 47,
   "metadata": {},
   "outputs": [
    {
     "data": {
      "text/plain": [
       "list"
      ]
     },
     "execution_count": 47,
     "metadata": {},
     "output_type": "execute_result"
    }
   ],
   "source": [
    "data_df['tweet_cleaned'] = data_df['tweet_cleaned'].fillna(' ')\n",
    "\n",
    "X_text = data_df['tweet_cleaned'].tolist()\n",
    "y = data_df['who_is_it']\n",
    "type(X_text)"
   ]
  },
  {
   "cell_type": "code",
   "execution_count": 48,
   "metadata": {},
   "outputs": [
    {
     "data": {
      "text/plain": [
       "RandomForestClassifier(bootstrap=True, class_weight=None, criterion='gini',\n",
       "            max_depth=None, max_features='auto', max_leaf_nodes=None,\n",
       "            min_impurity_decrease=0.0, min_impurity_split=None,\n",
       "            min_samples_leaf=1, min_samples_split=2,\n",
       "            min_weight_fraction_leaf=0.0, n_estimators=100, n_jobs=1,\n",
       "            oob_score=False, random_state=1991, verbose=0,\n",
       "            warm_start=False)"
      ]
     },
     "execution_count": 48,
     "metadata": {},
     "output_type": "execute_result"
    }
   ],
   "source": [
    "# convert content of string into vector of numbers using TF-IDF\n",
    "# use pipeline to attach vectorized text data to multinomial bayes classifier\n",
    "from sklearn.feature_extraction.text import TfidfVectorizer\n",
    "from sklearn.model_selection import train_test_split\n",
    "from sklearn.ensemble import RandomForestClassifier\n",
    "\n",
    "vec = TfidfVectorizer()\n",
    "X = vec.fit_transform(X_text)\n",
    "\n",
    "Xtrain, Xtest, ytrain, ytest = train_test_split(X, y, random_state=1991)\n",
    "\n",
    "model = RandomForestClassifier(n_estimators=100, random_state=1991)\n",
    "model.fit(Xtrain, ytrain)"
   ]
  },
  {
   "cell_type": "code",
   "execution_count": 49,
   "metadata": {},
   "outputs": [],
   "source": [
    "ypred = model.predict(Xtest)"
   ]
  },
  {
   "cell_type": "code",
   "execution_count": 50,
   "metadata": {},
   "outputs": [
    {
     "name": "stdout",
     "output_type": "stream",
     "text": [
      "             precision    recall  f1-score   support\n",
      "\n",
      "          0       0.78      0.89      0.83       228\n",
      "          1       0.89      0.79      0.84       272\n",
      "\n",
      "avg / total       0.84      0.84      0.84       500\n",
      "\n"
     ]
    }
   ],
   "source": [
    "from sklearn import metrics\n",
    "print(metrics.classification_report(ypred, ytest))"
   ]
  },
  {
   "cell_type": "code",
   "execution_count": 52,
   "metadata": {},
   "outputs": [
    {
     "data": {
      "image/png": "[encoded data removed]",
      "text/plain": [
       "<Figure size 432x288 with 1 Axes>"
      ]
     },
     "metadata": {},
     "output_type": "display_data"
    }
   ],
   "source": [
    "from sklearn.metrics import confusion_matrix\n",
    "mat = confusion_matrix(ytest, ypred)\n",
    "sns.heatmap(mat.T, square=True, annot=True, fmt='d', cbar=False, cmap='Blues')\n",
    "plt.xlabel('true label')\n",
    "plt.ylabel('predicted label');"
   ]
  },
  {
   "cell_type": "code",
   "execution_count": null,
   "metadata": {},
   "outputs": [],
   "source": []
  }
 ],
 "metadata": {
  "kernelspec": {
   "display_name": "Python 3",
   "language": "python",
   "name": "python3"
  },
  "language_info": {
   "codemirror_mode": {
    "name": "ipython",
    "version": 3
   },
   "file_extension": ".py",
   "mimetype": "text/x-python",
   "name": "python",
   "nbconvert_exporter": "python",
   "pygments_lexer": "ipython3",
   "version": "3.6.5"
  }
 },
 "nbformat": 4,
 "nbformat_minor": 2
}
